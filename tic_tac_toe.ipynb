{
 "cells": [
  {
   "cell_type": "code",
   "execution_count": 1,
   "metadata": {},
   "outputs": [],
   "source": [
    "'''Write a function evaluate that accepts the string with the board of 1D tic-tac-toe as argument and returns one character based on the state of the game:\n",
    "\n",
    "x – The player who uses crosses (Xs) has won (the board contains xxx)\n",
    "\"o\" – The player who uses noughts (Os) has won (the board contains ooo)\n",
    "\"!\" – Draw (the board is full but nobody has won)\n",
    "\"-\" – Rest (i.e. the game is not finished)'''\n",
    "\n",
    "def evaluate(strt):\n",
    "  if \"xxx\" in strt:\n",
    "    return \"x\"\n",
    "  elif \"ooo\" in strt:\n",
    "    return \"o\"\n",
    "  elif \"-\" not in strt:\n",
    "    return \"!\"\n",
    "  else: \n",
    "    return \"-\""
   ]
  },
  {
   "cell_type": "code",
   "execution_count": 3,
   "metadata": {},
   "outputs": [
    {
     "data": {
      "text/plain": [
       "'---------x----------'"
      ]
     },
     "execution_count": 3,
     "metadata": {},
     "output_type": "execute_result"
    }
   ],
   "source": [
    "''' Write a player_move function that accepts a string with the game board, \n",
    "asks the player which position he wants to play and returns the updated game board with the player's move. \n",
    "The function should reject negative or too large numbers or moves to an occupied position. \n",
    "If the user has entered a wrong argument, the function should ask again (to get correct answer).'''\n",
    "\n",
    "\n",
    "strt = \"--------------------\"\n",
    "\n",
    "def player_move(strt):\n",
    "    position = int(input(\"What is your move? Please type in a number between 0 and 19: \"))\n",
    "    mark = \"x\"\n",
    "    if -1 < position < 20 and strt[position] == \"-\":\n",
    "        strt = strt[:position] + mark + strt[position + 1:]\n",
    "        return strt\n",
    "    else :\n",
    "        print(\"Error - please try again\")\n",
    "        return player_move(strt)\n",
    "\n",
    "\n",
    "player_move(strt)\n"
   ]
  },
  {
   "cell_type": "code",
   "execution_count": 6,
   "metadata": {},
   "outputs": [
    {
     "data": {
      "text/plain": [
       "'--------------o-----'"
      ]
     },
     "execution_count": 6,
     "metadata": {},
     "output_type": "execute_result"
    }
   ],
   "source": [
    "'''Write a pc_move function that accepts the string with the game board. It will select a position to play, and returns the game board with the computer's move.\n",
    "Use a simple random \"strategy\":\n",
    "\n",
    "Select a random number from 0 to 19.\n",
    "If the position is empty, place the computer's mark there.\n",
    "If not, repeat from the first step (select another random number). The function header should look something like this:'''\n",
    "\n",
    "\n",
    "from random import randrange  # (and possibly other import statements that are needed)\n",
    "\n",
    "def pc_move(strt):\n",
    "    \"Returns a game board with the computer's move.\"\n",
    "    mark = \"o\"\n",
    "    position = randrange(0, 20)\n",
    "    if strt[position] == \"-\":\n",
    "        strt = strt[:position] + mark + strt[position + 1:]\n",
    "        return strt\n",
    "    else:\n",
    "        return pc_move(strt)\n",
    "\n",
    "pc_move(strt)"
   ]
  },
  {
   "cell_type": "code",
   "execution_count": 8,
   "metadata": {},
   "outputs": [
    {
     "name": "stdout",
     "output_type": "stream",
     "text": [
      "--------------------\n",
      "o--------x----------\n",
      "o-------xx----o-----\n",
      "o-x-----xx----oo----\n",
      "o-x----xxx--o-oo----\n",
      "End Game. You won\n"
     ]
    }
   ],
   "source": [
    "'''Write a 1D_tictactoe function that creates a string with a game board and alternately calls the player_move and pc_move functions until someone wins or draws. \n",
    "Do not forget to check the status of the game after every turn.'''\n",
    "\n",
    "def tic_tac_toe(strt):\n",
    "    strt = \"--------------------\"\n",
    "    print(strt)\n",
    "    evaluate(strt)\n",
    "    while evaluate(strt) == \"-\":\n",
    "        strt = player_move(strt)\n",
    "        strt = pc_move(strt)\n",
    "        print(strt)\n",
    "    if evaluate(strt) == \"x\":\n",
    "        print(\"End Game. You won\")\n",
    "    elif evaluate(strt) == \"o\":\n",
    "        print(\"End game. The computer has won.\")\n",
    "    elif evaluate(strt) == \"!\":\n",
    "        print(\"End game. The board is full, nobody has won.\")\n",
    "        \n",
    "\n",
    "tic_tac_toe(strt)\n",
    "\n"
   ]
  }
 ],
 "metadata": {
  "kernelspec": {
   "display_name": "Python 3.10.7 64-bit",
   "language": "python",
   "name": "python3"
  },
  "language_info": {
   "codemirror_mode": {
    "name": "ipython",
    "version": 3
   },
   "file_extension": ".py",
   "mimetype": "text/x-python",
   "name": "python",
   "nbconvert_exporter": "python",
   "pygments_lexer": "ipython3",
   "version": "3.10.7"
  },
  "orig_nbformat": 4,
  "vscode": {
   "interpreter": {
    "hash": "aee8b7b246df8f9039afb4144a1f6fd8d2ca17a180786b69acc140d282b71a49"
   }
  }
 },
 "nbformat": 4,
 "nbformat_minor": 2
}
